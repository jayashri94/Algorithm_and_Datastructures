{
 "cells": [
  {
   "cell_type": "markdown",
   "metadata": {},
   "source": [
    "# Dynamic Arrays Implementation"
   ]
  },
  {
   "cell_type": "markdown",
   "metadata": {},
   "source": [
    "## Simple function that checks the array function in python"
   ]
  },
  {
   "cell_type": "code",
   "execution_count": 1,
   "metadata": {},
   "outputs": [],
   "source": [
    "%config IPCompleter.greedy=True"
   ]
  },
  {
   "cell_type": "code",
   "execution_count": 2,
   "metadata": {},
   "outputs": [
    {
     "name": "stdout",
     "output_type": "stream",
     "text": [
      "Length of 0; Size in bytes: 64\n",
      "Length of 1; Size in bytes: 96\n",
      "Length of 2; Size in bytes: 96\n",
      "Length of 3; Size in bytes: 96\n",
      "Length of 4; Size in bytes: 96\n",
      "Length of 5; Size in bytes: 128\n",
      "Length of 6; Size in bytes: 128\n",
      "Length of 7; Size in bytes: 128\n",
      "Length of 8; Size in bytes: 128\n",
      "Length of 9; Size in bytes: 192\n",
      "Length of 10; Size in bytes: 192\n",
      "Length of 11; Size in bytes: 192\n",
      "Length of 12; Size in bytes: 192\n",
      "Length of 13; Size in bytes: 192\n",
      "Length of 14; Size in bytes: 192\n",
      "Length of 15; Size in bytes: 192\n",
      "Length of 16; Size in bytes: 192\n",
      "Length of 17; Size in bytes: 264\n",
      "Length of 18; Size in bytes: 264\n",
      "Length of 19; Size in bytes: 264\n"
     ]
    }
   ],
   "source": [
    "import sys\n",
    "\n",
    "#set n\n",
    "n = 20\n",
    "data =[]\n",
    "\n",
    "for i in range(n):\n",
    "    \n",
    "    a = len(data)\n",
    "    \n",
    "    b = sys.getsizeof(data)\n",
    "    \n",
    "    print(f'Length of {a}; Size in bytes: {b}')\n",
    "    data.append(n)"
   ]
  },
  {
   "cell_type": "code",
   "execution_count": 71,
   "metadata": {},
   "outputs": [],
   "source": [
    "import ctypes\n",
    "import sys\n",
    "class DynamicArray(object):\n",
    "    \n",
    "    def __init__(self):\n",
    "        \n",
    "        self.n = 0\n",
    "        self.capacity = 2\n",
    "        self.array = self.make_array(self.capacity)\n",
    "        \n",
    "    def __len__(self):\n",
    "        return self.n\n",
    "    \n",
    "    def __getitem__(self,k): # return elements in k index\n",
    "        \n",
    "        if not 0<= k < self.n:\n",
    "            return IndexError('K is out of bounds')\n",
    "        return self.array[k]\n",
    "    \n",
    "    def append(self,element):\n",
    "        \n",
    "        if self.n == self.capacity:\n",
    "            self._resize(2*self.capacity)   \n",
    "        self.array[self.n] = element\n",
    "        self.n += 1\n",
    "        \n",
    "         \n",
    "    def _resize(self,new_cap):\n",
    "        new_size = self.make_array(new_cap)\n",
    "        \n",
    "        for k in range(self.n):\n",
    "            new_size[k] = self.array[k]\n",
    "        \n",
    "        \n",
    "        self.array = new_size\n",
    "        self.capacity = new_cap\n",
    "        print(f'Length of {self.capacity}; Size in bytes: {sys.getsizeof(self.array)}') \n",
    "        \n",
    "    def make_array(self,new_cap):\n",
    "        \n",
    "        return (new_cap*ctypes.py_object)()\n",
    "            \n",
    "            "
   ]
  },
  {
   "cell_type": "code",
   "execution_count": 72,
   "metadata": {},
   "outputs": [],
   "source": [
    "arr = DynamicArray()"
   ]
  },
  {
   "cell_type": "code",
   "execution_count": 73,
   "metadata": {},
   "outputs": [],
   "source": [
    "arr.append(100)"
   ]
  },
  {
   "cell_type": "code",
   "execution_count": 74,
   "metadata": {},
   "outputs": [
    {
     "data": {
      "text/plain": [
       "1"
      ]
     },
     "execution_count": 74,
     "metadata": {},
     "output_type": "execute_result"
    }
   ],
   "source": [
    "len(arr)"
   ]
  },
  {
   "cell_type": "code",
   "execution_count": 75,
   "metadata": {},
   "outputs": [],
   "source": [
    "arr.append(10)"
   ]
  },
  {
   "cell_type": "code",
   "execution_count": 76,
   "metadata": {},
   "outputs": [
    {
     "data": {
      "text/plain": [
       "2"
      ]
     },
     "execution_count": 76,
     "metadata": {},
     "output_type": "execute_result"
    }
   ],
   "source": [
    "len(arr)"
   ]
  },
  {
   "cell_type": "code",
   "execution_count": 77,
   "metadata": {},
   "outputs": [
    {
     "data": {
      "text/plain": [
       "10"
      ]
     },
     "execution_count": 77,
     "metadata": {},
     "output_type": "execute_result"
    }
   ],
   "source": [
    "arr[1]"
   ]
  },
  {
   "cell_type": "code",
   "execution_count": 78,
   "metadata": {},
   "outputs": [
    {
     "data": {
      "text/plain": [
       "IndexError('K is out of bounds')"
      ]
     },
     "execution_count": 78,
     "metadata": {},
     "output_type": "execute_result"
    }
   ],
   "source": [
    "arr[4]"
   ]
  },
  {
   "cell_type": "code",
   "execution_count": 79,
   "metadata": {},
   "outputs": [
    {
     "name": "stdout",
     "output_type": "stream",
     "text": [
      "Length of 4; Size in bytes: 136\n",
      "Length of 8; Size in bytes: 136\n",
      "Length of 16; Size in bytes: 136\n",
      "Length of 32; Size in bytes: 136\n"
     ]
    }
   ],
   "source": [
    "arr.append(100)\n",
    "arr.append(100)\n",
    "arr.append(100)\n",
    "arr.append(100)\n",
    "arr.append(100)\n",
    "arr.append(100)\n",
    "arr.append(100)\n",
    "arr.append(100)\n",
    "arr.append(100)\n",
    "arr.append(100)\n",
    "arr.append(100)\n",
    "arr.append(100)\n",
    "arr.append(100)\n",
    "arr.append(1000000)\n",
    "arr.append(100)\n",
    "arr.append(100)\n",
    "arr.append(100)\n",
    "arr.append(100)\n",
    "arr.append(100)\n",
    "arr.append(100)\n",
    "arr.append(100)\n",
    "arr.append(100)\n",
    "arr.append(100)\n",
    "arr.append(100)\n",
    "arr.append(100)\n",
    "arr.append(100)\n",
    "arr.append(100)"
   ]
  },
  {
   "cell_type": "code",
   "execution_count": 60,
   "metadata": {},
   "outputs": [
    {
     "data": {
      "text/plain": [
       "100"
      ]
     },
     "execution_count": 60,
     "metadata": {},
     "output_type": "execute_result"
    }
   ],
   "source": [
    "arr[12]"
   ]
  },
  {
   "cell_type": "code",
   "execution_count": null,
   "metadata": {},
   "outputs": [],
   "source": []
  }
 ],
 "metadata": {
  "kernelspec": {
   "display_name": "Python 3",
   "language": "python",
   "name": "python3"
  },
  "language_info": {
   "codemirror_mode": {
    "name": "ipython",
    "version": 3
   },
   "file_extension": ".py",
   "mimetype": "text/x-python",
   "name": "python",
   "nbconvert_exporter": "python",
   "pygments_lexer": "ipython3",
   "version": "3.7.3"
  }
 },
 "nbformat": 4,
 "nbformat_minor": 2
}
